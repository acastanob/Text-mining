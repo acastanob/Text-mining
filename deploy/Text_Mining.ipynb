{
 "cells": [
  {
   "cell_type": "markdown",
   "metadata": {},
   "source": [
    "<font size=\"7\"><b> Text mining </font>"
   ]
  },
  {
   "cell_type": "code",
   "execution_count": null,
   "metadata": {
    "collapsed": true
   },
   "outputs": [],
   "source": [
    "#Cargar librerias\n",
    "library(NLP)\n",
    "library(tm)\n",
    "library(SnowballC)\n",
    "library(wordcloud)\n",
    "library(ggplot2)\n",
    "library(dplyr)\n",
    "library(readr)\n",
    "library(cluster)\n",
    "library(xlsx)\n",
    "library(data.table)\n",
    "library(plotly)\n",
    "library(reshape)\n",
    "library(rpart.plot)\n",
    "library(Matrix)\n",
    "library(arules)"
   ]
  },
  {
   "cell_type": "markdown",
   "metadata": {},
   "source": [
    "# data reading"
   ]
  },
  {
   "cell_type": "code",
   "execution_count": null,
   "metadata": {},
   "outputs": [],
   "source": [
    "base=fread(\"../data/Datos.csv\", sep=\";\")#, encoding=\"UTF-8\")\n",
    "head(base,3)"
   ]
  },
  {
   "cell_type": "markdown",
   "metadata": {},
   "source": [
    "# data cleaning"
   ]
  },
  {
   "cell_type": "code",
   "execution_count": null,
   "metadata": {},
   "outputs": [],
   "source": [
    "# first cloud\n",
    "base_text=base\n",
    "wordcloud(base_text$Descripcion, max.words = 100, random.order = F, colors = brewer.pal(name = \"Dark2\", n = 8))"
   ]
  },
  {
   "cell_type": "code",
   "execution_count": null,
   "metadata": {
    "collapsed": true
   },
   "outputs": [],
   "source": [
    "#caracteres especiales\n",
    "base_text$Descripcion <- gsub(\"[[:cntrl:]]\", \" \", base_text$Descripcion)\n",
    "\n",
    "#minusculas\n",
    "base_text$Descripcion <- tolower(base_text$Descripcion)\n",
    "\n",
    "#quitar puntuaciÃ³n\n",
    "base_text$Descripcion <- removePunctuation(base_text$Descripcion)\n",
    "\n",
    "#Quitar numeros\n",
    "base_text$Descripcion <- removeNumbers(base_text$Descripcion)\n",
    "\n",
    "# quitar multiples Espacios \n",
    "base_text$Descripcion <- stripWhitespace(base_text$Descripcion)\n",
    "\n",
    "#eliminar palabras vacias (preposiciones y muletillas)\n",
    "base_text$Descripcion <- removeWords(base_text$Descripcion, words = stopwords(\"spanish\"))\n",
    "\n",
    "# quitar palabras que no aportan valor (por criterio experto)\n",
    "base_text$Descripcion <- removeWords(base_text$Descripcion, words = c(\"usuario\"))\n",
    "\n",
    "# reemplazar palabras segun diccionario de datos\n",
    "base_text$Descripcion <- gsub(\"reinicia\", \"reiniciar\", base_text$Descripcion)\n",
    "\n",
    "#Tildes\n",
    "base_text$Descripcion <- gsub(\"á\", \"a\", base_text$Descripcion)\n",
    "base_text$Descripcion <- gsub(\"é\", \"e\", base_text$Descripcion)\n",
    "base_text$Descripcion <- gsub(\"í\", \"i\", base_text$Descripcion)\n",
    "base_text$Descripcion <- gsub(\"ó\", \"o\", base_text$Descripcion)\n",
    "base_text$Descripcion <- gsub(\"ú\", \"u\", base_text$Descripcion)\n",
    "base_text$Descripcion <- gsub(\"ñ\", \"n\", base_text$Descripcion)\n",
    "base_text$Descripcion <- gsub(\"ü\", \"u\", base_text$Descripcion)"
   ]
  },
  {
   "cell_type": "markdown",
   "metadata": {},
   "source": [
    "# Corpus"
   ]
  },
  {
   "cell_type": "code",
   "execution_count": null,
   "metadata": {
    "collapsed": true
   },
   "outputs": [],
   "source": [
    "#Corpus 1\n",
    "base_corpus <- Corpus(VectorSource(base_text$Descripcion))"
   ]
  },
  {
   "cell_type": "code",
   "execution_count": null,
   "metadata": {
    "collapsed": true
   },
   "outputs": [],
   "source": [
    "#corpus 2 sin \"genero\"\n",
    "base_corpus_stem <- tm_map(base_corpus, stemDocument, language = \"spanish\")"
   ]
  },
  {
   "cell_type": "code",
   "execution_count": null,
   "metadata": {},
   "outputs": [],
   "source": [
    "wordcloud(base_corpus_stem, max.words = 100, random.order = F, colors = brewer.pal(name = \"Dark2\", n = 8))"
   ]
  },
  {
   "cell_type": "code",
   "execution_count": null,
   "metadata": {
    "collapsed": true
   },
   "outputs": [],
   "source": [
    "#Matriz de términos\n",
    "base_tdm <- TermDocumentMatrix(base_corpus)"
   ]
  },
  {
   "cell_type": "code",
   "execution_count": null,
   "metadata": {
    "collapsed": true
   },
   "outputs": [],
   "source": [
    "#Matriz de términos stem\n",
    "base_tdm_stem <- TermDocumentMatrix(base_corpus_stem)"
   ]
  },
  {
   "cell_type": "code",
   "execution_count": null,
   "metadata": {
    "collapsed": true
   },
   "outputs": [],
   "source": [
    "#Eliminar términos dispersos\n",
    "base_new = base_tdm\n",
    "base_new <- removeSparseTerms(base_tdm, sparse = .965)"
   ]
  },
  {
   "cell_type": "code",
   "execution_count": null,
   "metadata": {
    "collapsed": true
   },
   "outputs": [],
   "source": [
    "#Eliminar términos dispersos con stem\n",
    "base_new_stem = base_tdm_stem\n",
    "base_new_stem <- removeSparseTerms(base_tdm_stem, sparse = .965)"
   ]
  },
  {
   "cell_type": "code",
   "execution_count": null,
   "metadata": {
    "scrolled": true
   },
   "outputs": [],
   "source": [
    "dim(base_new)"
   ]
  },
  {
   "cell_type": "code",
   "execution_count": null,
   "metadata": {},
   "outputs": [],
   "source": [
    "dim(base_new_stem)"
   ]
  },
  {
   "cell_type": "code",
   "execution_count": null,
   "metadata": {
    "collapsed": true
   },
   "outputs": [],
   "source": [
    "#matriz de términos\n",
    "base_mat <- as.matrix(base_new)"
   ]
  },
  {
   "cell_type": "code",
   "execution_count": null,
   "metadata": {
    "collapsed": true
   },
   "outputs": [],
   "source": [
    "# con stem\n",
    "base_mat_stem <- as.matrix(base_new_stem)"
   ]
  },
  {
   "cell_type": "markdown",
   "metadata": {},
   "source": [
    "# Words frequency"
   ]
  },
  {
   "cell_type": "code",
   "execution_count": null,
   "metadata": {
    "collapsed": true
   },
   "outputs": [],
   "source": [
    "# sumas de renglon\n",
    "base_mat_Freq <- base_mat %>% rowSums() %>% sort(decreasing = TRUE)\n",
    "base_mat_Freq <- data.frame(palabra = names(base_mat_Freq), frec = base_mat_Freq)"
   ]
  },
  {
   "cell_type": "code",
   "execution_count": null,
   "metadata": {
    "collapsed": true
   },
   "outputs": [],
   "source": [
    "# sumas de renglon con stem\n",
    "base_mat_Freq_stem <- base_mat_stem %>% rowSums() %>% sort(decreasing = TRUE)\n",
    "base_mat_Freq_stem <- data.frame(palabra = names(base_mat_Freq_stem), frec = base_mat_Freq_stem)"
   ]
  },
  {
   "cell_type": "code",
   "execution_count": null,
   "metadata": {},
   "outputs": [],
   "source": [
    "#Top 10 de palabras comunes \n",
    "head(base_mat_Freq,10)"
   ]
  },
  {
   "cell_type": "code",
   "execution_count": null,
   "metadata": {},
   "outputs": [],
   "source": [
    "#Top 10 de palabras comunes \n",
    "head(base_mat_Freq_stem,10)"
   ]
  },
  {
   "cell_type": "code",
   "execution_count": null,
   "metadata": {},
   "outputs": [],
   "source": [
    "base_mat_Freq[1:10, ] %>%\n",
    "  ggplot(aes(palabra, frec)) +\n",
    "  geom_bar(stat = \"identity\", color = \"black\", fill = \"darkcyan\") +\n",
    "  geom_text(aes(hjust = 1.3, label = frec)) + \n",
    "  coord_flip() + \n",
    "  labs(title = \"Diez palabras más frecuentes en Niebla\",  x = \"Palabras\", y = \"Número de usos\")"
   ]
  },
  {
   "cell_type": "markdown",
   "metadata": {},
   "source": [
    "# Cluster K-means"
   ]
  },
  {
   "cell_type": "code",
   "execution_count": null,
   "metadata": {
    "collapsed": true
   },
   "outputs": [],
   "source": [
    "#Estandarizar\n",
    "base_mat2_stem=scale(base_mat_stem)"
   ]
  },
  {
   "cell_type": "code",
   "execution_count": null,
   "metadata": {},
   "outputs": [],
   "source": [
    "dim(base_mat2_stem)"
   ]
  },
  {
   "cell_type": "code",
   "execution_count": null,
   "metadata": {
    "collapsed": true
   },
   "outputs": [],
   "source": [
    "wss <- (nrow(base_mat_stem)-1)*sum(apply(base_mat_stem,2,var))"
   ]
  },
  {
   "cell_type": "code",
   "execution_count": null,
   "metadata": {},
   "outputs": [],
   "source": [
    "wss"
   ]
  },
  {
   "cell_type": "code",
   "execution_count": null,
   "metadata": {
    "collapsed": true
   },
   "outputs": [],
   "source": [
    "######------------------------------------ Determine numero de clusters\n",
    "wss <- (nrow(base_mat)-1)*sum(apply(base_mat,2,var))\n",
    "\n",
    "for (i in 2:10) wss[i] <- sum(kmeans(base_mat,centers=i)$withinss)\n"
   ]
  },
  {
   "cell_type": "code",
   "execution_count": null,
   "metadata": {},
   "outputs": [],
   "source": [
    "######------------------------------------ Determine numero de clusters\n",
    "wss <- (nrow(base_mat2_stem)-1)*sum(apply(base_mat2_stem,2,var))\n",
    "\n",
    "for (i in 2:5) wss[i] <- sum(kmeans(base_mat2_stem, centers=i)$withinss)"
   ]
  },
  {
   "cell_type": "code",
   "execution_count": null,
   "metadata": {
    "collapsed": true
   },
   "outputs": [],
   "source": [
    "plot(1:10, wss[2:10], type=\"b\", xlab=\"Number of Clusters\",\n",
    "  ylab=\"Within groups sum of squares\", main=\"Clusters) Sum_Cuad\")"
   ]
  },
  {
   "cell_type": "code",
   "execution_count": null,
   "metadata": {},
   "outputs": [],
   "source": [
    "dim(base_mat)\n",
    "dim(base_mat_stem)"
   ]
  },
  {
   "cell_type": "code",
   "execution_count": null,
   "metadata": {
    "collapsed": true
   },
   "outputs": [],
   "source": [
    "\n",
    "######---------------------------------- K-Means Cluster Analysis\n",
    "fit <- kmeans(base_mat, 7) # 3 cluster solution\n",
    "# get cluster means \n",
    "#aggregate(base_mat,by=list(fit$cluster),FUN=mean)\n",
    "# append cluster assignment\n",
    "DatosKmeans <- data.frame(base_mat, fit$cluster)\n"
   ]
  },
  {
   "cell_type": "code",
   "execution_count": null,
   "metadata": {},
   "outputs": [],
   "source": [
    "table(DatosKmeans$fit.cluster)"
   ]
  },
  {
   "cell_type": "code",
   "execution_count": null,
   "metadata": {},
   "outputs": [],
   "source": [
    "DatosKmeans[DatosKmeans$fit.cluster==6,]"
   ]
  },
  {
   "cell_type": "markdown",
   "metadata": {},
   "source": [
    "# Cluster Jerárquico aglomerativo"
   ]
  },
  {
   "cell_type": "code",
   "execution_count": null,
   "metadata": {
    "collapsed": true
   },
   "outputs": [],
   "source": [
    "#Estandarizar\n",
    "base_mat2=scale(base_mat)"
   ]
  },
  {
   "cell_type": "code",
   "execution_count": null,
   "metadata": {
    "collapsed": true
   },
   "outputs": [],
   "source": [
    "#Distancias\n",
    "base_dist <- dist(base_new, method = \"euclidian\")"
   ]
  },
  {
   "cell_type": "code",
   "execution_count": null,
   "metadata": {
    "collapsed": true
   },
   "outputs": [],
   "source": [
    "# Hierarchical clustering\n",
    "base_hclust <-  hclust(base_dist, method = \"ward.D\")"
   ]
  },
  {
   "cell_type": "code",
   "execution_count": null,
   "metadata": {},
   "outputs": [],
   "source": [
    "plot(base_hclust, main = \"Dendrograma de palabras\", sub = \"\", xlab = \"\")"
   ]
  },
  {
   "cell_type": "code",
   "execution_count": null,
   "metadata": {},
   "outputs": [],
   "source": [
    "plot(base_hclust, main = \"Dendrograma de palabras\", sub = \"\", xlab = \"\")\n",
    "rect.hclust(base_hclust, k = 4, border=\"blue\")"
   ]
  },
  {
   "cell_type": "markdown",
   "metadata": {},
   "source": [
    "# Association rules"
   ]
  },
  {
   "cell_type": "code",
   "execution_count": null,
   "metadata": {},
   "outputs": [],
   "source": [
    "findAssocs(base_new_stem,  terms = c(\"evolucion\",\"fractur\",\"traum\",\"continu\",\"establ\",\"derech\",\"izquierd\",\"quemadur\",\"clinic\",\"diagnost\",\"accident\",\"cirugi\",\"hemodinam\",\"transit\",\"control\",\"dolor\",\"antecedent\"), corlimit = .05)"
   ]
  }
 ],
 "metadata": {
  "anaconda-cloud": {},
  "kernelspec": {
   "display_name": "R",
   "language": "R",
   "name": "ir"
  },
  "language_info": {
   "codemirror_mode": "r",
   "file_extension": ".r",
   "mimetype": "text/x-r-source",
   "name": "R",
   "pygments_lexer": "r",
   "version": "3.4.1"
  },
  "toc": {
   "colors": {
    "hover_highlight": "#DAA520",
    "navigate_num": "#000000",
    "navigate_text": "#333333",
    "running_highlight": "#FF0000",
    "selected_highlight": "#FFD700",
    "sidebar_border": "#EEEEEE",
    "wrapper_background": "#FFFFFF"
   },
   "moveMenuLeft": true,
   "nav_menu": {
    "height": "101px",
    "width": "252px"
   },
   "navigate_menu": true,
   "number_sections": true,
   "sideBar": true,
   "threshold": 4,
   "toc_cell": false,
   "toc_section_display": "block",
   "toc_window_display": true,
   "widenNotebook": false
  }
 },
 "nbformat": 4,
 "nbformat_minor": 1
}
