{
 "cells": [
  {
   "cell_type": "markdown",
   "metadata": {},
   "source": [
    "<font size=\"7\"><b>Text mining</font>"
   ]
  },
  {
   "cell_type": "code",
   "execution_count": 2,
   "metadata": {
    "collapsed": true
   },
   "outputs": [],
   "source": [
    "#Cargar librerias\n",
    "library(NLP)\n",
    "library(tm)\n",
    "library(SnowballC)\n",
    "library(wordcloud)\n",
    "library(ggplot2)\n",
    "library(dplyr)\n",
    "library(readr)\n",
    "library(cluster)\n",
    "library(xlsx)\n",
    "library(data.table)\n",
    "library(plotly)\n",
    "library(reshape)\n",
    "library(rpart.plot)"
   ]
  },
  {
   "cell_type": "markdown",
   "metadata": {},
   "source": [
    "# data reading"
   ]
  },
  {
   "cell_type": "code",
   "execution_count": 3,
   "metadata": {},
   "outputs": [
    {
     "data": {
      "text/html": [
       "<table>\n",
       "<thead><tr><th scope=col>Doc</th><th scope=col>Elem_Datos_Cod_Dgn</th><th scope=col>GrupoDg</th><th scope=col>EVOL_2015_ANALISIS</th></tr></thead>\n",
       "<tbody>\n",
       "\t<tr><td>6e+19                                                                                                                                                                                                                                                        </td><td>T913                                                                                                                                                                                                                                                         </td><td>T9                                                                                                                                                                                                                                                           </td><td>Paciente con secuelas de TRM con nivel que le permite una funcionalidadaceptable.                                                              Los problemas que tiene para las transferencias están más relacionados  con el medio en el que se desenvuelve </td></tr>\n",
       "\t<tr><td>6e+19                                                                                                                                                                                                                                                        </td><td>S724                                                                                                                                                                                                                                                         </td><td>S7                                                                                                                                                                                                                                                           </td><td>Paciente de 18 meses con hospitalización prolongada con PCI con        cuadriparesia espástica trastorno de la motilidad GI severa y multiplescomorbilidades en manejo.                                               Desde hace 3 día con picos febriles    </td></tr>\n",
       "\t<tr><td>6e+19                                                                                                                                                                                                                                                        </td><td>S724                                                                                                                                                                                                                                                         </td><td>S7                                                                                                                                                                                                                                                           </td><td>leana con episodio de traqueitis vs ineumonia asociada a los cuidados   ty ademas hace dos dias  fractura supracondilea  ya inmovilizaada       se le inicio nuevo esquema de  antibioticos .                           se sle solicito calcio y p  por la fr</td></tr>\n",
       "</tbody>\n",
       "</table>\n"
      ],
      "text/latex": [
       "\\begin{tabular}{r|llll}\n",
       " Doc & Elem\\_Datos\\_Cod\\_Dgn & GrupoDg & EVOL\\_2015\\_ANALISIS\\\\\n",
       "\\hline\n",
       "\t 6e+19                                                                                                                                                                                                                                                         & T913                                                                                                                                                                                                                                                          & T9                                                                                                                                                                                                                                                            & Paciente con secuelas de TRM con nivel que le permite una funcionalidadaceptable.                                                              Los problemas que tiene para las transferencias están más relacionados  con el medio en el que se desenvuelve \\\\\n",
       "\t 6e+19                                                                                                                                                                                                                                                         & S724                                                                                                                                                                                                                                                          & S7                                                                                                                                                                                                                                                            & Paciente de 18 meses con hospitalización prolongada con PCI con        cuadriparesia espástica trastorno de la motilidad GI severa y multiplescomorbilidades en manejo.                                               Desde hace 3 día con picos febriles    \\\\\n",
       "\t 6e+19                                                                                                                                                                                                                                                         & S724                                                                                                                                                                                                                                                          & S7                                                                                                                                                                                                                                                            & leana con episodio de traqueitis vs ineumonia asociada a los cuidados   ty ademas hace dos dias  fractura supracondilea  ya inmovilizaada       se le inicio nuevo esquema de  antibioticos .                           se sle solicito calcio y p  por la fr\\\\\n",
       "\\end{tabular}\n"
      ],
      "text/markdown": [
       "\n",
       "Doc | Elem_Datos_Cod_Dgn | GrupoDg | EVOL_2015_ANALISIS | \n",
       "|---|---|---|\n",
       "| 6e+19                                                                                                                                                                                                                                                         | T913                                                                                                                                                                                                                                                          | T9                                                                                                                                                                                                                                                            | Paciente con secuelas de TRM con nivel que le permite una funcionalidadaceptable.                                                              Los problemas que tiene para las transferencias están más relacionados  con el medio en el que se desenvuelve  | \n",
       "| 6e+19                                                                                                                                                                                                                                                         | S724                                                                                                                                                                                                                                                          | S7                                                                                                                                                                                                                                                            | Paciente de 18 meses con hospitalización prolongada con PCI con        cuadriparesia espástica trastorno de la motilidad GI severa y multiplescomorbilidades en manejo.                                               Desde hace 3 día con picos febriles     | \n",
       "| 6e+19                                                                                                                                                                                                                                                         | S724                                                                                                                                                                                                                                                          | S7                                                                                                                                                                                                                                                            | leana con episodio de traqueitis vs ineumonia asociada a los cuidados   ty ademas hace dos dias  fractura supracondilea  ya inmovilizaada       se le inicio nuevo esquema de  antibioticos .                           se sle solicito calcio y p  por la fr | \n",
       "\n",
       "\n"
      ],
      "text/plain": [
       "  Doc   Elem_Datos_Cod_Dgn GrupoDg\n",
       "1 6e+19 T913               T9     \n",
       "2 6e+19 S724               S7     \n",
       "3 6e+19 S724               S7     \n",
       "  EVOL_2015_ANALISIS                                                                                                                                                                                                                                           \n",
       "1 Paciente con secuelas de TRM con nivel que le permite una funcionalidadaceptable.                                                              Los problemas que tiene para las transferencias están más relacionados  con el medio en el que se desenvuelve \n",
       "2 Paciente de 18 meses con hospitalización prolongada con PCI con        cuadriparesia espástica trastorno de la motilidad GI severa y multiplescomorbilidades en manejo.                                               Desde hace 3 día con picos febriles    \n",
       "3 leana con episodio de traqueitis vs ineumonia asociada a los cuidados   ty ademas hace dos dias  fractura supracondilea  ya inmovilizaada       se le inicio nuevo esquema de  antibioticos .                           se sle solicito calcio y p  por la fr"
      ]
     },
     "metadata": {},
     "output_type": "display_data"
    }
   ],
   "source": [
    "base=fread(\"../data/Datos.csv\", sep=\";\")#, encoding=\"UTF-8\")\n",
    "head(base,3)"
   ]
  },
  {
   "cell_type": "markdown",
   "metadata": {},
   "source": [
    "# data cleaning"
   ]
  },
  {
   "cell_type": "code",
   "execution_count": 13,
   "metadata": {},
   "outputs": [
    {
     "data": {
      "image/png": "[encoded data removed]",
      "text/plain": [
       "plot without title"
      ]
     },
     "metadata": {},
     "output_type": "display_data"
    }
   ],
   "source": [
    "# first cloud\n",
    "base_text=base\n",
    "wordcloud(base_text$Descripcion, max.words = 100, random.order = F, colors = brewer.pal(name = \"Dark2\", n = 8))"
   ]
  },
  {
   "cell_type": "code",
   "execution_count": 14,
   "metadata": {
    "collapsed": true
   },
   "outputs": [],
   "source": [
    "#caracteres especiales\n",
    "base_text$Descripcion <- gsub(\"[[:cntrl:]]\", \" \", base_text$Descripcion)\n",
    "\n",
    "#minusculas\n",
    "base_text$Descripcion <- tolower(base_text$Descripcion)\n",
    "\n",
    "#quitar puntuaciÃ³n\n",
    "base_text$Descripcion <- removePunctuation(base_text$Descripcion)\n",
    "\n",
    "#Quitar numeros\n",
    "base_text$Descripcion <- removeNumbers(base_text$Descripcion)\n",
    "\n",
    "# quitar multiples Espacios \n",
    "base_text$Descripcion <- stripWhitespace(base_text$Descripcion)\n",
    "\n",
    "#eliminar palabras vacias (preposiciones y muletillas)\n",
    "base_text$Descripcion <- removeWords(base_text$Descripcion, words = stopwords(\"spanish\"))\n",
    "\n",
    "# quitar palabras que no aportan valor (por criterio experto)\n",
    "base_text$Descripcion <- removeWords(base_text$Descripcion, words = c(\"usuario\"))\n",
    "\n",
    "# reemplazar palabras segun diccionario de datos\n",
    "base_text$Descripcion <- gsub(\"reinicia\", \"reiniciar\", base_text$Descripcion)\n",
    "\n",
    "#Tildes\n",
    "base_text$Descripcion <- gsub(\"á\", \"a\", base_text$Descripcion)\n",
    "base_text$Descripcion <- gsub(\"é\", \"e\", base_text$Descripcion)\n",
    "base_text$Descripcion <- gsub(\"í\", \"i\", base_text$Descripcion)\n",
    "base_text$Descripcion <- gsub(\"ó\", \"o\", base_text$Descripcion)\n",
    "base_text$Descripcion <- gsub(\"ú\", \"u\", base_text$Descripcion)\n",
    "base_text$Descripcion <- gsub(\"ñ\", \"n\", base_text$Descripcion)\n",
    "base_text$Descripcion <- gsub(\"ü\", \"u\", base_text$Descripcion)"
   ]
  },
  {
   "cell_type": "markdown",
   "metadata": {},
   "source": [
    "# Corpus"
   ]
  },
  {
   "cell_type": "code",
   "execution_count": 123,
   "metadata": {
    "collapsed": true
   },
   "outputs": [],
   "source": [
    "#Corpus 1\n",
    "base_corpus <- Corpus(VectorSource(base_text$Descripcion))"
   ]
  },
  {
   "cell_type": "code",
   "execution_count": 181,
   "metadata": {
    "collapsed": true
   },
   "outputs": [],
   "source": [
    "#corpus 2 sin \"genero\"\n",
    "base_corpus_stem <- tm_map(base_corpus, stemDocument, language = \"spanish\")"
   ]
  },
  {
   "cell_type": "code",
   "execution_count": 182,
   "metadata": {},
   "outputs": [
    {
     "data": {
      "image/png": "[encoded data removed]",
      "text/plain": [
       "plot without title"
      ]
     },
     "metadata": {},
     "output_type": "display_data"
    }
   ],
   "source": [
    "wordcloud(base_corpus_stem, max.words = 100, random.order = F, colors = brewer.pal(name = \"Dark2\", n = 8))"
   ]
  },
  {
   "cell_type": "code",
   "execution_count": 240,
   "metadata": {
    "collapsed": true
   },
   "outputs": [],
   "source": [
    "#Matriz de términos\n",
    "base_tdm <- TermDocumentMatrix(base_corpus)"
   ]
  },
  {
   "cell_type": "code",
   "execution_count": 241,
   "metadata": {
    "collapsed": true
   },
   "outputs": [],
   "source": [
    "#Matriz de términos stem\n",
    "base_tdm_stem <- TermDocumentMatrix(base_corpus_stem)"
   ]
  },
  {
   "cell_type": "code",
   "execution_count": 243,
   "metadata": {
    "collapsed": true
   },
   "outputs": [],
   "source": [
    "#Eliminar términos dispersos\n",
    "base_new = base_tdm\n",
    "base_new <- removeSparseTerms(base_tdm, sparse = .965)"
   ]
  },
  {
   "cell_type": "code",
   "execution_count": 244,
   "metadata": {
    "collapsed": true
   },
   "outputs": [],
   "source": [
    "#Eliminar términos dispersos con stem\n",
    "base_new_stem = base_tdm_stem\n",
    "base_new_stem <- removeSparseTerms(base_tdm_stem, sparse = .965)"
   ]
  },
  {
   "cell_type": "code",
   "execution_count": 277,
   "metadata": {
    "scrolled": true
   },
   "outputs": [
    {
     "data": {
      "text/html": [
       "<ol class=list-inline>\n",
       "\t<li>32</li>\n",
       "\t<li>351627</li>\n",
       "</ol>\n"
      ],
      "text/latex": [
       "\\begin{enumerate*}\n",
       "\\item 32\n",
       "\\item 351627\n",
       "\\end{enumerate*}\n"
      ],
      "text/markdown": [
       "1. 32\n",
       "2. 351627\n",
       "\n",
       "\n"
      ],
      "text/plain": [
       "[1]     32 351627"
      ]
     },
     "metadata": {},
     "output_type": "display_data"
    }
   ],
   "source": [
    "dim(base_new)"
   ]
  },
  {
   "cell_type": "code",
   "execution_count": 246,
   "metadata": {},
   "outputs": [
    {
     "data": {
      "text/html": [
       "<ol class=list-inline>\n",
       "\t<li>47</li>\n",
       "\t<li>351627</li>\n",
       "</ol>\n"
      ],
      "text/latex": [
       "\\begin{enumerate*}\n",
       "\\item 47\n",
       "\\item 351627\n",
       "\\end{enumerate*}\n"
      ],
      "text/markdown": [
       "1. 47\n",
       "2. 351627\n",
       "\n",
       "\n"
      ],
      "text/plain": [
       "[1]     47 351627"
      ]
     },
     "metadata": {},
     "output_type": "display_data"
    }
   ],
   "source": [
    "dim(base_new_stem)"
   ]
  },
  {
   "cell_type": "code",
   "execution_count": 247,
   "metadata": {
    "collapsed": true
   },
   "outputs": [],
   "source": [
    "#matriz de términos\n",
    "base_mat <- as.matrix(base_new)"
   ]
  },
  {
   "cell_type": "code",
   "execution_count": 267,
   "metadata": {
    "collapsed": true
   },
   "outputs": [],
   "source": [
    "# con stem\n",
    "base_mat_stem <- as.matrix(base_new_stem)"
   ]
  },
  {
   "cell_type": "markdown",
   "metadata": {},
   "source": [
    "# Frecuencia de palabras"
   ]
  },
  {
   "cell_type": "code",
   "execution_count": 249,
   "metadata": {
    "collapsed": true
   },
   "outputs": [],
   "source": [
    "# sumas de renglon\n",
    "base_mat_Freq <- base_mat %>% rowSums() %>% sort(decreasing = TRUE)\n",
    "base_mat_Freq <- data.frame(palabra = names(base_mat_Freq), frec = base_mat_Freq)"
   ]
  },
  {
   "cell_type": "code",
   "execution_count": 250,
   "metadata": {
    "collapsed": true
   },
   "outputs": [],
   "source": [
    "# sumas de renglon con stem\n",
    "base_mat_Freq_stem <- base_mat_stem %>% rowSums() %>% sort(decreasing = TRUE)\n",
    "base_mat_Freq_stem <- data.frame(palabra = names(base_mat_Freq_stem), frec = base_mat_Freq_stem)"
   ]
  },
  {
   "cell_type": "code",
   "execution_count": 294,
   "metadata": {},
   "outputs": [
    {
     "data": {
      "text/html": [
       "<table>\n",
       "<thead><tr><th></th><th scope=col>palabra</th><th scope=col>frec</th></tr></thead>\n",
       "<tbody>\n",
       "\t<tr><th scope=row>evolucion</th><td>evolucion </td><td>47543     </td></tr>\n",
       "\t<tr><th scope=row>trauma</th><td>trauma    </td><td>45424     </td></tr>\n",
       "\t<tr><th scope=row>estable</th><td>estable   </td><td>38158     </td></tr>\n",
       "\t<tr><th scope=row>fractura</th><td>fractura  </td><td>36102     </td></tr>\n",
       "\t<tr><th scope=row>momento</th><td>momento   </td><td>29791     </td></tr>\n",
       "\t<tr><th scope=row>continua</th><td>continua  </td><td>29375     </td></tr>\n",
       "\t<tr><th scope=row>accidente</th><td>accidente </td><td>26300     </td></tr>\n",
       "\t<tr><th scope=row>cirugia</th><td>cirugia   </td><td>25333     </td></tr>\n",
       "\t<tr><th scope=row>quemaduras</th><td>quemaduras</td><td>23358     </td></tr>\n",
       "\t<tr><th scope=row>transito</th><td>transito  </td><td>23286     </td></tr>\n",
       "</tbody>\n",
       "</table>\n"
      ],
      "text/latex": [
       "\\begin{tabular}{r|ll}\n",
       "  & palabra & frec\\\\\n",
       "\\hline\n",
       "\tevolucion & evolucion  & 47543     \\\\\n",
       "\ttrauma & trauma     & 45424     \\\\\n",
       "\testable & estable    & 38158     \\\\\n",
       "\tfractura & fractura   & 36102     \\\\\n",
       "\tmomento & momento    & 29791     \\\\\n",
       "\tcontinua & continua   & 29375     \\\\\n",
       "\taccidente & accidente  & 26300     \\\\\n",
       "\tcirugia & cirugia    & 25333     \\\\\n",
       "\tquemaduras & quemaduras & 23358     \\\\\n",
       "\ttransito & transito   & 23286     \\\\\n",
       "\\end{tabular}\n"
      ],
      "text/markdown": [
       "\n",
       "| <!--/--> | palabra | frec | \n",
       "|---|---|---|---|---|---|---|---|---|---|\n",
       "| evolucion | evolucion  | 47543      | \n",
       "| trauma | trauma     | 45424      | \n",
       "| estable | estable    | 38158      | \n",
       "| fractura | fractura   | 36102      | \n",
       "| momento | momento    | 29791      | \n",
       "| continua | continua   | 29375      | \n",
       "| accidente | accidente  | 26300      | \n",
       "| cirugia | cirugia    | 25333      | \n",
       "| quemaduras | quemaduras | 23358      | \n",
       "| transito | transito   | 23286      | \n",
       "\n",
       "\n"
      ],
      "text/plain": [
       "           palabra    frec \n",
       "evolucion  evolucion  47543\n",
       "trauma     trauma     45424\n",
       "estable    estable    38158\n",
       "fractura   fractura   36102\n",
       "momento    momento    29791\n",
       "continua   continua   29375\n",
       "accidente  accidente  26300\n",
       "cirugia    cirugia    25333\n",
       "quemaduras quemaduras 23358\n",
       "transito   transito   23286"
      ]
     },
     "metadata": {},
     "output_type": "display_data"
    }
   ],
   "source": [
    "#Top 10 de palabras comunes \n",
    "head(base_mat_Freq,10)"
   ]
  },
  {
   "cell_type": "code",
   "execution_count": 293,
   "metadata": {},
   "outputs": [
    {
     "data": {
      "text/html": [
       "<table>\n",
       "<thead><tr><th></th><th scope=col>palabra</th><th scope=col>frec</th></tr></thead>\n",
       "<tbody>\n",
       "\t<tr><th scope=row>evolucion</th><td>evolucion</td><td>50926    </td></tr>\n",
       "\t<tr><th scope=row>fractur</th><td>fractur  </td><td>47394    </td></tr>\n",
       "\t<tr><th scope=row>traum</th><td>traum    </td><td>46423    </td></tr>\n",
       "\t<tr><th scope=row>continu</th><td>continu  </td><td>45466    </td></tr>\n",
       "\t<tr><th scope=row>establ</th><td>establ   </td><td>42503    </td></tr>\n",
       "\t<tr><th scope=row>derech</th><td>derech   </td><td>40786    </td></tr>\n",
       "\t<tr><th scope=row>izquierd</th><td>izquierd </td><td>34908    </td></tr>\n",
       "\t<tr><th scope=row>quemadur</th><td>quemadur </td><td>32128    </td></tr>\n",
       "\t<tr><th scope=row>moment</th><td>moment   </td><td>30376    </td></tr>\n",
       "\t<tr><th scope=row>clinic</th><td>clinic   </td><td>29289    </td></tr>\n",
       "</tbody>\n",
       "</table>\n"
      ],
      "text/latex": [
       "\\begin{tabular}{r|ll}\n",
       "  & palabra & frec\\\\\n",
       "\\hline\n",
       "\tevolucion & evolucion & 50926    \\\\\n",
       "\tfractur & fractur   & 47394    \\\\\n",
       "\ttraum & traum     & 46423    \\\\\n",
       "\tcontinu & continu   & 45466    \\\\\n",
       "\testabl & establ    & 42503    \\\\\n",
       "\tderech & derech    & 40786    \\\\\n",
       "\tizquierd & izquierd  & 34908    \\\\\n",
       "\tquemadur & quemadur  & 32128    \\\\\n",
       "\tmoment & moment    & 30376    \\\\\n",
       "\tclinic & clinic    & 29289    \\\\\n",
       "\\end{tabular}\n"
      ],
      "text/markdown": [
       "\n",
       "| <!--/--> | palabra | frec | \n",
       "|---|---|---|---|---|---|---|---|---|---|\n",
       "| evolucion | evolucion | 50926     | \n",
       "| fractur | fractur   | 47394     | \n",
       "| traum | traum     | 46423     | \n",
       "| continu | continu   | 45466     | \n",
       "| establ | establ    | 42503     | \n",
       "| derech | derech    | 40786     | \n",
       "| izquierd | izquierd  | 34908     | \n",
       "| quemadur | quemadur  | 32128     | \n",
       "| moment | moment    | 30376     | \n",
       "| clinic | clinic    | 29289     | \n",
       "\n",
       "\n"
      ],
      "text/plain": [
       "          palabra   frec \n",
       "evolucion evolucion 50926\n",
       "fractur   fractur   47394\n",
       "traum     traum     46423\n",
       "continu   continu   45466\n",
       "establ    establ    42503\n",
       "derech    derech    40786\n",
       "izquierd  izquierd  34908\n",
       "quemadur  quemadur  32128\n",
       "moment    moment    30376\n",
       "clinic    clinic    29289"
      ]
     },
     "metadata": {},
     "output_type": "display_data"
    }
   ],
   "source": [
    "#Top 10 de palabras comunes \n",
    "head(base_mat_Freq_stem,10)"
   ]
  },
  {
   "cell_type": "code",
   "execution_count": 226,
   "metadata": {},
   "outputs": [
    {
     "data": {},
     "metadata": {},
     "output_type": "display_data"
    },
    {
     "data": {
      "image/png": "[encoded data removed]",
      "text/plain": [
       "plot without title"
      ]
     },
     "metadata": {},
     "output_type": "display_data"
    }
   ],
   "source": [
    "base_mat_Freq[1:10, ] %>%\n",
    "  ggplot(aes(palabra, frec)) +\n",
    "  geom_bar(stat = \"identity\", color = \"black\", fill = \"darkcyan\") +\n",
    "  geom_text(aes(hjust = 1.3, label = frec)) + \n",
    "  coord_flip() + \n",
    "  labs(title = \"Diez palabras más frecuentes en Niebla\",  x = \"Palabras\", y = \"Número de usos\")"
   ]
  },
  {
   "cell_type": "markdown",
   "metadata": {},
   "source": [
    "# Cluster K-means"
   ]
  },
  {
   "cell_type": "code",
   "execution_count": 263,
   "metadata": {
    "collapsed": true
   },
   "outputs": [],
   "source": [
    "#Estandarizar\n",
    "base_mat2_stem=scale(base_mat_stem)"
   ]
  },
  {
   "cell_type": "code",
   "execution_count": 265,
   "metadata": {},
   "outputs": [
    {
     "data": {
      "text/html": [
       "<ol class=list-inline>\n",
       "\t<li>47</li>\n",
       "\t<li>351627</li>\n",
       "</ol>\n"
      ],
      "text/latex": [
       "\\begin{enumerate*}\n",
       "\\item 47\n",
       "\\item 351627\n",
       "\\end{enumerate*}\n"
      ],
      "text/markdown": [
       "1. 47\n",
       "2. 351627\n",
       "\n",
       "\n"
      ],
      "text/plain": [
       "[1]     47 351627"
      ]
     },
     "metadata": {},
     "output_type": "display_data"
    }
   ],
   "source": [
    "dim(base_mat2_stem)"
   ]
  },
  {
   "cell_type": "code",
   "execution_count": 351,
   "metadata": {
    "collapsed": true
   },
   "outputs": [],
   "source": [
    "wss <- (nrow(base_mat_stem)-1)*sum(apply(base_mat_stem,2,var))"
   ]
  },
  {
   "cell_type": "code",
   "execution_count": 352,
   "metadata": {},
   "outputs": [
    {
     "data": {
      "text/html": [
       "1076968.38297872"
      ],
      "text/latex": [
       "1076968.38297872"
      ],
      "text/markdown": [
       "1076968.38297872"
      ],
      "text/plain": [
       "[1] 1076968"
      ]
     },
     "metadata": {},
     "output_type": "display_data"
    }
   ],
   "source": [
    "wss"
   ]
  },
  {
   "cell_type": "code",
   "execution_count": 345,
   "metadata": {
    "collapsed": true
   },
   "outputs": [],
   "source": [
    "######------------------------------------ Determine numero de clusters\n",
    "wss <- (nrow(base_mat)-1)*sum(apply(base_mat,2,var))\n",
    "\n",
    "for (i in 2:10) wss[i] <- sum(kmeans(base_mat,centers=i)$withinss)\n"
   ]
  },
  {
   "cell_type": "code",
   "execution_count": 347,
   "metadata": {},
   "outputs": [
    {
     "ename": "ERROR",
     "evalue": "Error in do_one(nmeth): NA/NaN/Inf en llamada a una función externa (arg 1)\n",
     "output_type": "error",
     "traceback": [
      "Error in do_one(nmeth): NA/NaN/Inf en llamada a una función externa (arg 1)\nTraceback:\n",
      "1. kmeans(base_mat2_stem, centers = i)",
      "2. do_one(nmeth)"
     ]
    }
   ],
   "source": [
    "######------------------------------------ Determine numero de clusters\n",
    "wss <- (nrow(base_mat2_stem)-1)*sum(apply(base_mat2_stem,2,var))\n",
    "\n",
    "for (i in 2:5) wss[i] <- sum(kmeans(base_mat2_stem, centers=i)$withinss)"
   ]
  },
  {
   "cell_type": "code",
   "execution_count": null,
   "metadata": {
    "collapsed": true
   },
   "outputs": [],
   "source": [
    "plot(1:10, wss[2:10], type=\"b\", xlab=\"Number of Clusters\",\n",
    "  ylab=\"Within groups sum of squares\", main=\"Clusters) Sum_Cuad\")"
   ]
  },
  {
   "cell_type": "code",
   "execution_count": 348,
   "metadata": {},
   "outputs": [
    {
     "data": {
      "text/html": [
       "<ol class=list-inline>\n",
       "\t<li>32</li>\n",
       "\t<li>351627</li>\n",
       "</ol>\n"
      ],
      "text/latex": [
       "\\begin{enumerate*}\n",
       "\\item 32\n",
       "\\item 351627\n",
       "\\end{enumerate*}\n"
      ],
      "text/markdown": [
       "1. 32\n",
       "2. 351627\n",
       "\n",
       "\n"
      ],
      "text/plain": [
       "[1]     32 351627"
      ]
     },
     "metadata": {},
     "output_type": "display_data"
    },
    {
     "data": {
      "text/html": [
       "<ol class=list-inline>\n",
       "\t<li>47</li>\n",
       "\t<li>351627</li>\n",
       "</ol>\n"
      ],
      "text/latex": [
       "\\begin{enumerate*}\n",
       "\\item 47\n",
       "\\item 351627\n",
       "\\end{enumerate*}\n"
      ],
      "text/markdown": [
       "1. 47\n",
       "2. 351627\n",
       "\n",
       "\n"
      ],
      "text/plain": [
       "[1]     47 351627"
      ]
     },
     "metadata": {},
     "output_type": "display_data"
    }
   ],
   "source": [
    "dim(base_mat)\n",
    "dim(base_mat_stem)"
   ]
  },
  {
   "cell_type": "code",
   "execution_count": 173,
   "metadata": {
    "collapsed": true
   },
   "outputs": [],
   "source": [
    "\n",
    "######---------------------------------- K-Means Cluster Analysis\n",
    "fit <- kmeans(base_mat, 7) # 3 cluster solution\n",
    "# get cluster means \n",
    "#aggregate(base_mat,by=list(fit$cluster),FUN=mean)\n",
    "# append cluster assignment\n",
    "DatosKmeans <- data.frame(base_mat, fit$cluster)\n"
   ]
  },
  {
   "cell_type": "code",
   "execution_count": 174,
   "metadata": {},
   "outputs": [
    {
     "data": {
      "text/plain": [
       "\n",
       "  1   2   3   4   5   6   7 \n",
       "  3   4   1   3   1  18 195 "
      ]
     },
     "metadata": {},
     "output_type": "display_data"
    }
   ],
   "source": [
    "table(DatosKmeans$fit.cluster)"
   ]
  },
  {
   "cell_type": "code",
   "execution_count": 164,
   "metadata": {},
   "outputs": [
    {
     "data": {
      "text/html": [
       "<table>\n",
       "<thead><tr><th></th><th scope=col>X1</th><th scope=col>X2</th><th scope=col>X3</th><th scope=col>X4</th><th scope=col>X5</th><th scope=col>X6</th><th scope=col>X7</th><th scope=col>X8</th><th scope=col>X9</th><th scope=col>X10</th><th scope=col>...</th><th scope=col>X351619</th><th scope=col>X351620</th><th scope=col>X351621</th><th scope=col>X351622</th><th scope=col>X351623</th><th scope=col>X351624</th><th scope=col>X351625</th><th scope=col>X351626</th><th scope=col>X351627</th><th scope=col>fit.cluster</th></tr></thead>\n",
       "<tbody>\n",
       "\t<tr><th scope=row>signos</th><td>0  </td><td>0  </td><td>0  </td><td>0  </td><td>0  </td><td>0  </td><td>0  </td><td>0  </td><td>1  </td><td>0  </td><td>...</td><td>0  </td><td>0  </td><td>0  </td><td>0  </td><td>0  </td><td>0  </td><td>0  </td><td>0  </td><td>0  </td><td>6  </td></tr>\n",
       "\t<tr><th scope=row>derecho</th><td>0  </td><td>0  </td><td>0  </td><td>0  </td><td>0  </td><td>0  </td><td>0  </td><td>0  </td><td>0  </td><td>0  </td><td>...</td><td>0  </td><td>0  </td><td>0  </td><td>0  </td><td>0  </td><td>0  </td><td>0  </td><td>0  </td><td>0  </td><td>6  </td></tr>\n",
       "\t<tr><th scope=row>clinica</th><td>0  </td><td>0  </td><td>0  </td><td>0  </td><td>0  </td><td>0  </td><td>0  </td><td>0  </td><td>0  </td><td>0  </td><td>...</td><td>0  </td><td>0  </td><td>0  </td><td>0  </td><td>0  </td><td>0  </td><td>0  </td><td>0  </td><td>0  </td><td>6  </td></tr>\n",
       "\t<tr><th scope=row>derecha</th><td>0  </td><td>0  </td><td>0  </td><td>0  </td><td>0  </td><td>0  </td><td>0  </td><td>0  </td><td>0  </td><td>0  </td><td>...</td><td>0  </td><td>0  </td><td>0  </td><td>0  </td><td>0  </td><td>0  </td><td>0  </td><td>0  </td><td>0  </td><td>6  </td></tr>\n",
       "\t<tr><th scope=row>dolor</th><td>0  </td><td>0  </td><td>0  </td><td>0  </td><td>0  </td><td>0  </td><td>0  </td><td>0  </td><td>0  </td><td>0  </td><td>...</td><td>1  </td><td>1  </td><td>1  </td><td>1  </td><td>1  </td><td>1  </td><td>1  </td><td>1  </td><td>1  </td><td>6  </td></tr>\n",
       "\t<tr><th scope=row>cirugia</th><td>0  </td><td>0  </td><td>0  </td><td>0  </td><td>0  </td><td>0  </td><td>0  </td><td>0  </td><td>0  </td><td>0  </td><td>...</td><td>0  </td><td>0  </td><td>0  </td><td>0  </td><td>0  </td><td>0  </td><td>0  </td><td>0  </td><td>0  </td><td>6  </td></tr>\n",
       "\t<tr><th scope=row>control</th><td>0  </td><td>0  </td><td>0  </td><td>0  </td><td>0  </td><td>0  </td><td>0  </td><td>0  </td><td>0  </td><td>0  </td><td>...</td><td>0  </td><td>0  </td><td>0  </td><td>0  </td><td>0  </td><td>0  </td><td>0  </td><td>0  </td><td>0  </td><td>6  </td></tr>\n",
       "\t<tr><th scope=row>herida</th><td>0  </td><td>0  </td><td>0  </td><td>0  </td><td>0  </td><td>0  </td><td>0  </td><td>0  </td><td>0  </td><td>0  </td><td>...</td><td>0  </td><td>0  </td><td>0  </td><td>0  </td><td>0  </td><td>0  </td><td>0  </td><td>0  </td><td>0  </td><td>6  </td></tr>\n",
       "\t<tr><th scope=row>alta</th><td>0  </td><td>0  </td><td>0  </td><td>0  </td><td>0  </td><td>0  </td><td>0  </td><td>0  </td><td>0  </td><td>0  </td><td>...</td><td>0  </td><td>0  </td><td>0  </td><td>0  </td><td>0  </td><td>0  </td><td>0  </td><td>0  </td><td>0  </td><td>6  </td></tr>\n",
       "\t<tr><th scope=row>torax</th><td>0  </td><td>0  </td><td>0  </td><td>0  </td><td>0  </td><td>0  </td><td>0  </td><td>0  </td><td>0  </td><td>0  </td><td>...</td><td>0  </td><td>0  </td><td>0  </td><td>0  </td><td>0  </td><td>0  </td><td>0  </td><td>0  </td><td>0  </td><td>6  </td></tr>\n",
       "\t<tr><th scope=row>izquierdo</th><td>0  </td><td>0  </td><td>0  </td><td>0  </td><td>0  </td><td>0  </td><td>0  </td><td>0  </td><td>0  </td><td>0  </td><td>...</td><td>0  </td><td>0  </td><td>0  </td><td>0  </td><td>0  </td><td>0  </td><td>0  </td><td>0  </td><td>0  </td><td>6  </td></tr>\n",
       "\t<tr><th scope=row>izquierda</th><td>0  </td><td>0  </td><td>0  </td><td>0  </td><td>0  </td><td>0  </td><td>0  </td><td>0  </td><td>0  </td><td>0  </td><td>...</td><td>0  </td><td>0  </td><td>0  </td><td>0  </td><td>0  </td><td>0  </td><td>0  </td><td>0  </td><td>0  </td><td>6  </td></tr>\n",
       "\t<tr><th scope=row>lesion</th><td>0  </td><td>0  </td><td>0  </td><td>0  </td><td>0  </td><td>0  </td><td>0  </td><td>0  </td><td>0  </td><td>0  </td><td>...</td><td>0  </td><td>0  </td><td>0  </td><td>0  </td><td>0  </td><td>0  </td><td>0  </td><td>0  </td><td>0  </td><td>6  </td></tr>\n",
       "\t<tr><th scope=row>arma</th><td>0  </td><td>0  </td><td>0  </td><td>0  </td><td>0  </td><td>0  </td><td>0  </td><td>0  </td><td>0  </td><td>0  </td><td>...</td><td>0  </td><td>0  </td><td>0  </td><td>0  </td><td>0  </td><td>0  </td><td>0  </td><td>0  </td><td>0  </td><td>6  </td></tr>\n",
       "</tbody>\n",
       "</table>\n"
      ],
      "text/markdown": [
       "\n",
       "| <!--/--> | X1 | X2 | X3 | X4 | X5 | X6 | X7 | X8 | X9 | X10 | ... | X351619 | X351620 | X351621 | X351622 | X351623 | X351624 | X351625 | X351626 | X351627 | fit.cluster | \n",
       "|---|---|---|---|---|---|---|---|---|---|---|---|---|---|\n",
       "| signos | 0   | 0   | 0   | 0   | 0   | 0   | 0   | 0   | 1   | 0   | ... | 0   | 0   | 0   | 0   | 0   | 0   | 0   | 0   | 0   | 6   | \n",
       "| derecho | 0   | 0   | 0   | 0   | 0   | 0   | 0   | 0   | 0   | 0   | ... | 0   | 0   | 0   | 0   | 0   | 0   | 0   | 0   | 0   | 6   | \n",
       "| clinica | 0   | 0   | 0   | 0   | 0   | 0   | 0   | 0   | 0   | 0   | ... | 0   | 0   | 0   | 0   | 0   | 0   | 0   | 0   | 0   | 6   | \n",
       "| derecha | 0   | 0   | 0   | 0   | 0   | 0   | 0   | 0   | 0   | 0   | ... | 0   | 0   | 0   | 0   | 0   | 0   | 0   | 0   | 0   | 6   | \n",
       "| dolor | 0   | 0   | 0   | 0   | 0   | 0   | 0   | 0   | 0   | 0   | ... | 1   | 1   | 1   | 1   | 1   | 1   | 1   | 1   | 1   | 6   | \n",
       "| cirugia | 0   | 0   | 0   | 0   | 0   | 0   | 0   | 0   | 0   | 0   | ... | 0   | 0   | 0   | 0   | 0   | 0   | 0   | 0   | 0   | 6   | \n",
       "| control | 0   | 0   | 0   | 0   | 0   | 0   | 0   | 0   | 0   | 0   | ... | 0   | 0   | 0   | 0   | 0   | 0   | 0   | 0   | 0   | 6   | \n",
       "| herida | 0   | 0   | 0   | 0   | 0   | 0   | 0   | 0   | 0   | 0   | ... | 0   | 0   | 0   | 0   | 0   | 0   | 0   | 0   | 0   | 6   | \n",
       "| alta | 0   | 0   | 0   | 0   | 0   | 0   | 0   | 0   | 0   | 0   | ... | 0   | 0   | 0   | 0   | 0   | 0   | 0   | 0   | 0   | 6   | \n",
       "| torax | 0   | 0   | 0   | 0   | 0   | 0   | 0   | 0   | 0   | 0   | ... | 0   | 0   | 0   | 0   | 0   | 0   | 0   | 0   | 0   | 6   | \n",
       "| izquierdo | 0   | 0   | 0   | 0   | 0   | 0   | 0   | 0   | 0   | 0   | ... | 0   | 0   | 0   | 0   | 0   | 0   | 0   | 0   | 0   | 6   | \n",
       "| izquierda | 0   | 0   | 0   | 0   | 0   | 0   | 0   | 0   | 0   | 0   | ... | 0   | 0   | 0   | 0   | 0   | 0   | 0   | 0   | 0   | 6   | \n",
       "| lesion | 0   | 0   | 0   | 0   | 0   | 0   | 0   | 0   | 0   | 0   | ... | 0   | 0   | 0   | 0   | 0   | 0   | 0   | 0   | 0   | 6   | \n",
       "| arma | 0   | 0   | 0   | 0   | 0   | 0   | 0   | 0   | 0   | 0   | ... | 0   | 0   | 0   | 0   | 0   | 0   | 0   | 0   | 0   | 6   | \n",
       "\n",
       "\n"
      ],
      "text/plain": [
       "          X1 X2 X3 X4 X5 X6 X7 X8 X9 X10 ... X351619 X351620 X351621 X351622\n",
       "signos    0  0  0  0  0  0  0  0  1  0   ... 0       0       0       0      \n",
       "derecho   0  0  0  0  0  0  0  0  0  0   ... 0       0       0       0      \n",
       "clinica   0  0  0  0  0  0  0  0  0  0   ... 0       0       0       0      \n",
       "derecha   0  0  0  0  0  0  0  0  0  0   ... 0       0       0       0      \n",
       "dolor     0  0  0  0  0  0  0  0  0  0   ... 1       1       1       1      \n",
       "cirugia   0  0  0  0  0  0  0  0  0  0   ... 0       0       0       0      \n",
       "control   0  0  0  0  0  0  0  0  0  0   ... 0       0       0       0      \n",
       "herida    0  0  0  0  0  0  0  0  0  0   ... 0       0       0       0      \n",
       "alta      0  0  0  0  0  0  0  0  0  0   ... 0       0       0       0      \n",
       "torax     0  0  0  0  0  0  0  0  0  0   ... 0       0       0       0      \n",
       "izquierdo 0  0  0  0  0  0  0  0  0  0   ... 0       0       0       0      \n",
       "izquierda 0  0  0  0  0  0  0  0  0  0   ... 0       0       0       0      \n",
       "lesion    0  0  0  0  0  0  0  0  0  0   ... 0       0       0       0      \n",
       "arma      0  0  0  0  0  0  0  0  0  0   ... 0       0       0       0      \n",
       "          X351623 X351624 X351625 X351626 X351627 fit.cluster\n",
       "signos    0       0       0       0       0       6          \n",
       "derecho   0       0       0       0       0       6          \n",
       "clinica   0       0       0       0       0       6          \n",
       "derecha   0       0       0       0       0       6          \n",
       "dolor     1       1       1       1       1       6          \n",
       "cirugia   0       0       0       0       0       6          \n",
       "control   0       0       0       0       0       6          \n",
       "herida    0       0       0       0       0       6          \n",
       "alta      0       0       0       0       0       6          \n",
       "torax     0       0       0       0       0       6          \n",
       "izquierdo 0       0       0       0       0       6          \n",
       "izquierda 0       0       0       0       0       6          \n",
       "lesion    0       0       0       0       0       6          \n",
       "arma      0       0       0       0       0       6          "
      ]
     },
     "metadata": {},
     "output_type": "display_data"
    }
   ],
   "source": [
    "DatosKmeans[DatosKmeans$fit.cluster==6,]"
   ]
  },
  {
   "cell_type": "markdown",
   "metadata": {},
   "source": [
    "# Cluster Jerárquico aglomerativo"
   ]
  },
  {
   "cell_type": "code",
   "execution_count": 236,
   "metadata": {
    "collapsed": true
   },
   "outputs": [],
   "source": [
    "#Estandarizar\n",
    "base_mat2=scale(base_mat)"
   ]
  },
  {
   "cell_type": "code",
   "execution_count": 237,
   "metadata": {
    "collapsed": true
   },
   "outputs": [],
   "source": [
    "#Distancias\n",
    "base_dist <- dist(base_new, method = \"euclidian\")"
   ]
  },
  {
   "cell_type": "code",
   "execution_count": 238,
   "metadata": {
    "collapsed": true
   },
   "outputs": [],
   "source": [
    "# Cluster jerarquico aglomerativo\n",
    "base_hclust <-  hclust(base_dist, method = \"ward.D\")"
   ]
  },
  {
   "cell_type": "code",
   "execution_count": 239,
   "metadata": {},
   "outputs": [
    {
     "data": {
      "image/png": "[encoded data removed]",
      "text/plain": [
       "Plot with title \"Dendrograma de palabras\""
      ]
     },
     "metadata": {},
     "output_type": "display_data"
    }
   ],
   "source": [
    "plot(base_hclust, main = \"Dendrograma de palabras\", sub = \"\", xlab = \"\")"
   ]
  },
  {
   "cell_type": "code",
   "execution_count": 257,
   "metadata": {},
   "outputs": [
    {
     "data": {
      "image/png": "[encoded data removed]",
      "text/plain": [
       "Plot with title \"Dendrograma de palabras\""
      ]
     },
     "metadata": {},
     "output_type": "display_data"
    }
   ],
   "source": [
    "plot(base_hclust, main = \"Dendrograma de palabras\", sub = \"\", xlab = \"\")\n",
    "rect.hclust(base_hclust, k = 4, border=\"blue\")"
   ]
  },
  {
   "cell_type": "markdown",
   "metadata": {},
   "source": [
    "# Asociaciones opcion 1"
   ]
  },
  {
   "cell_type": "code",
   "execution_count": 288,
   "metadata": {
    "collapsed": true
   },
   "outputs": [],
   "source": [
    "?findAssocs"
   ]
  },
  {
   "cell_type": "code",
   "execution_count": 291,
   "metadata": {},
   "outputs": [
    {
     "data": {
      "text/html": [
       "<dl>\n",
       "\t<dt>$evolucion</dt>\n",
       "\t\t<dd><dl class=dl-horizontal>\n",
       "\t<dt>curacion</dt>\n",
       "\t\t<dd>0.12</dd>\n",
       "\t<dt>sign</dt>\n",
       "\t\t<dd>0.1</dd>\n",
       "\t<dt>mejori</dt>\n",
       "\t\t<dd>0.1</dd>\n",
       "\t<dt>profund</dt>\n",
       "\t\t<dd>0.09</dd>\n",
       "\t<dt>respuest</dt>\n",
       "\t\t<dd>0.08</dd>\n",
       "\t<dt>antibiot</dt>\n",
       "\t\t<dd>0.06</dd>\n",
       "\t<dt>neurolog</dt>\n",
       "\t\t<dd>0.05</dd>\n",
       "\t<dt>cambi</dt>\n",
       "\t\t<dd>0.05</dd>\n",
       "</dl>\n",
       "</dd>\n",
       "\t<dt>$fractur</dt>\n",
       "\t\t<dd><dl class=dl-horizontal>\n",
       "\t<dt>multipl</dt>\n",
       "\t\t<dd>0.1</dd>\n",
       "\t<dt>quirurg</dt>\n",
       "\t\t<dd>0.09</dd>\n",
       "\t<dt>pendient</dt>\n",
       "\t\t<dd>0.06</dd>\n",
       "</dl>\n",
       "</dd>\n",
       "\t<dt>$traum</dt>\n",
       "\t\t<dd><dl class=dl-horizontal>\n",
       "\t<dt>neurolog</dt>\n",
       "\t\t<dd>0.08</dd>\n",
       "\t<dt>multipl</dt>\n",
       "\t\t<dd>0.07</dd>\n",
       "\t<dt>lesion</dt>\n",
       "\t\t<dd>0.07</dd>\n",
       "\t<dt>quirurg</dt>\n",
       "\t\t<dd>0.07</dd>\n",
       "\t<dt>alta</dt>\n",
       "\t\t<dd>0.05</dd>\n",
       "</dl>\n",
       "</dd>\n",
       "\t<dt>$continu</dt>\n",
       "\t\t<dd><dl class=dl-horizontal>\n",
       "\t<dt>curacion</dt>\n",
       "\t\t<dd>0.13</dd>\n",
       "\t<dt>respiratori</dt>\n",
       "\t\t<dd>0.12</dd>\n",
       "\t<dt>soport</dt>\n",
       "\t\t<dd>0.12</dd>\n",
       "\t<dt>condicion</dt>\n",
       "\t\t<dd>0.11</dd>\n",
       "\t<dt>general</dt>\n",
       "\t\t<dd>0.08</dd>\n",
       "\t<dt>antibiot</dt>\n",
       "\t\t<dd>0.07</dd>\n",
       "\t<dt>deterior</dt>\n",
       "\t\t<dd>0.07</dd>\n",
       "</dl>\n",
       "</dd>\n",
       "\t<dt>$establ</dt>\n",
       "\t\t<dd><dl class=dl-horizontal>\n",
       "\t<dt>deterior</dt>\n",
       "\t\t<dd>0.17</dd>\n",
       "\t<dt>moment</dt>\n",
       "\t\t<dd>0.16</dd>\n",
       "\t<dt>condicion</dt>\n",
       "\t\t<dd>0.16</dd>\n",
       "\t<dt>neurolog</dt>\n",
       "\t\t<dd>0.11</dd>\n",
       "\t<dt>respiratori</dt>\n",
       "\t\t<dd>0.1</dd>\n",
       "\t<dt>sign</dt>\n",
       "\t\t<dd>0.1</dd>\n",
       "\t<dt>general</dt>\n",
       "\t\t<dd>0.09</dd>\n",
       "\t<dt>respuest</dt>\n",
       "\t\t<dd>0.08</dd>\n",
       "\t<dt>pendient</dt>\n",
       "\t\t<dd>0.08</dd>\n",
       "\t<dt>soport</dt>\n",
       "\t\t<dd>0.08</dd>\n",
       "\t<dt>cambi</dt>\n",
       "\t\t<dd>0.07</dd>\n",
       "\t<dt>curacion</dt>\n",
       "\t\t<dd>0.05</dd>\n",
       "</dl>\n",
       "</dd>\n",
       "\t<dt>$derech</dt>\n",
       "\t\t<dd><dl class=dl-horizontal>\n",
       "\t<dt>her</dt>\n",
       "\t\t<dd>0.1</dd>\n",
       "\t<dt>lesion</dt>\n",
       "\t\t<dd>0.06</dd>\n",
       "</dl>\n",
       "</dd>\n",
       "\t<dt>$izquierd</dt>\n",
       "\t\t<dd><dl class=dl-horizontal>\n",
       "\t<dt>her</dt>\n",
       "\t\t<dd>0.08</dd>\n",
       "\t<dt>lesion</dt>\n",
       "\t\t<dd>0.07</dd>\n",
       "</dl>\n",
       "</dd>\n",
       "\t<dt>$quemadur</dt>\n",
       "\t\t<dd><dl class=dl-horizontal>\n",
       "\t<dt>profund</dt>\n",
       "\t\t<dd>0.57</dd>\n",
       "\t<dt>curacion</dt>\n",
       "\t\t<dd>0.37</dd>\n",
       "\t<dt>sign</dt>\n",
       "\t\t<dd>0.06</dd>\n",
       "</dl>\n",
       "</dd>\n",
       "\t<dt>$clinic</dt>\n",
       "\t\t<dd><dl class=dl-horizontal>\n",
       "\t<dt>sign</dt>\n",
       "\t\t<dd>0.13</dd>\n",
       "\t<dt>mejori</dt>\n",
       "\t\t<dd>0.11</dd>\n",
       "\t<dt>deterior</dt>\n",
       "\t\t<dd>0.11</dd>\n",
       "\t<dt>respuest</dt>\n",
       "\t\t<dd>0.09</dd>\n",
       "\t<dt>profund</dt>\n",
       "\t\t<dd>0.07</dd>\n",
       "\t<dt>anot</dt>\n",
       "\t\t<dd>0.06</dd>\n",
       "\t<dt>moment</dt>\n",
       "\t\t<dd>0.06</dd>\n",
       "\t<dt>antibiot</dt>\n",
       "\t\t<dd>0.05</dd>\n",
       "\t<dt>condicion</dt>\n",
       "\t\t<dd>0.05</dd>\n",
       "</dl>\n",
       "</dd>\n",
       "\t<dt>$diagnost</dt>\n",
       "\t\t<dd><strong>anot:</strong> 0.45</dd>\n",
       "\t<dt>$accident</dt>\n",
       "\t\t<dd></dd>\n",
       "\t<dt>$cirugi</dt>\n",
       "\t\t<dd><dl class=dl-horizontal>\n",
       "\t<dt>llev</dt>\n",
       "\t\t<dd>0.28</dd>\n",
       "\t<dt>program</dt>\n",
       "\t\t<dd>0.22</dd>\n",
       "\t<dt>general</dt>\n",
       "\t\t<dd>0.1</dd>\n",
       "\t<dt>pendient</dt>\n",
       "\t\t<dd>0.09</dd>\n",
       "\t<dt>requier</dt>\n",
       "\t\t<dd>0.07</dd>\n",
       "</dl>\n",
       "</dd>\n",
       "\t<dt>$hemodinam</dt>\n",
       "\t\t<dd><dl class=dl-horizontal>\n",
       "\t<dt>respiratori</dt>\n",
       "\t\t<dd>0.15</dd>\n",
       "\t<dt>deterior</dt>\n",
       "\t\t<dd>0.15</dd>\n",
       "\t<dt>soport</dt>\n",
       "\t\t<dd>0.14</dd>\n",
       "\t<dt>condicion</dt>\n",
       "\t\t<dd>0.13</dd>\n",
       "\t<dt>general</dt>\n",
       "\t\t<dd>0.11</dd>\n",
       "\t<dt>respuest</dt>\n",
       "\t\t<dd>0.09</dd>\n",
       "\t<dt>moment</dt>\n",
       "\t\t<dd>0.09</dd>\n",
       "\t<dt>neurolog</dt>\n",
       "\t\t<dd>0.08</dd>\n",
       "\t<dt>sign</dt>\n",
       "\t\t<dd>0.08</dd>\n",
       "\t<dt>anot</dt>\n",
       "\t\t<dd>0.06</dd>\n",
       "</dl>\n",
       "</dd>\n",
       "\t<dt>$transit</dt>\n",
       "\t\t<dd></dd>\n",
       "\t<dt>$control</dt>\n",
       "\t\t<dd></dd>\n",
       "\t<dt>$dolor</dt>\n",
       "\t\t<dd><dl class=dl-horizontal>\n",
       "\t<dt>moment</dt>\n",
       "\t\t<dd>0.07</dd>\n",
       "\t<dt>sign</dt>\n",
       "\t\t<dd>0.06</dd>\n",
       "</dl>\n",
       "</dd>\n",
       "\t<dt>$antecedent</dt>\n",
       "\t\t<dd><dl class=dl-horizontal>\n",
       "\t<dt>edad</dt>\n",
       "\t\t<dd>0.13</dd>\n",
       "\t<dt>ingres</dt>\n",
       "\t\t<dd>0.1</dd>\n",
       "\t<dt>hac</dt>\n",
       "\t\t<dd>0.07</dd>\n",
       "\t<dt>anot</dt>\n",
       "\t\t<dd>0.07</dd>\n",
       "\t<dt>multipl</dt>\n",
       "\t\t<dd>0.05</dd>\n",
       "</dl>\n",
       "</dd>\n",
       "</dl>\n"
      ],
      "text/latex": [
       "\\begin{description}\n",
       "\\item[\\$evolucion] \\begin{description*}\n",
       "\\item[curacion] 0.12\n",
       "\\item[sign] 0.1\n",
       "\\item[mejori] 0.1\n",
       "\\item[profund] 0.09\n",
       "\\item[respuest] 0.08\n",
       "\\item[antibiot] 0.06\n",
       "\\item[neurolog] 0.05\n",
       "\\item[cambi] 0.05\n",
       "\\end{description*}\n",
       "\n",
       "\\item[\\$fractur] \\begin{description*}\n",
       "\\item[multipl] 0.1\n",
       "\\item[quirurg] 0.09\n",
       "\\item[pendient] 0.06\n",
       "\\end{description*}\n",
       "\n",
       "\\item[\\$traum] \\begin{description*}\n",
       "\\item[neurolog] 0.08\n",
       "\\item[multipl] 0.07\n",
       "\\item[lesion] 0.07\n",
       "\\item[quirurg] 0.07\n",
       "\\item[alta] 0.05\n",
       "\\end{description*}\n",
       "\n",
       "\\item[\\$continu] \\begin{description*}\n",
       "\\item[curacion] 0.13\n",
       "\\item[respiratori] 0.12\n",
       "\\item[soport] 0.12\n",
       "\\item[condicion] 0.11\n",
       "\\item[general] 0.08\n",
       "\\item[antibiot] 0.07\n",
       "\\item[deterior] 0.07\n",
       "\\end{description*}\n",
       "\n",
       "\\item[\\$establ] \\begin{description*}\n",
       "\\item[deterior] 0.17\n",
       "\\item[moment] 0.16\n",
       "\\item[condicion] 0.16\n",
       "\\item[neurolog] 0.11\n",
       "\\item[respiratori] 0.1\n",
       "\\item[sign] 0.1\n",
       "\\item[general] 0.09\n",
       "\\item[respuest] 0.08\n",
       "\\item[pendient] 0.08\n",
       "\\item[soport] 0.08\n",
       "\\item[cambi] 0.07\n",
       "\\item[curacion] 0.05\n",
       "\\end{description*}\n",
       "\n",
       "\\item[\\$derech] \\begin{description*}\n",
       "\\item[her] 0.1\n",
       "\\item[lesion] 0.06\n",
       "\\end{description*}\n",
       "\n",
       "\\item[\\$izquierd] \\begin{description*}\n",
       "\\item[her] 0.08\n",
       "\\item[lesion] 0.07\n",
       "\\end{description*}\n",
       "\n",
       "\\item[\\$quemadur] \\begin{description*}\n",
       "\\item[profund] 0.57\n",
       "\\item[curacion] 0.37\n",
       "\\item[sign] 0.06\n",
       "\\end{description*}\n",
       "\n",
       "\\item[\\$clinic] \\begin{description*}\n",
       "\\item[sign] 0.13\n",
       "\\item[mejori] 0.11\n",
       "\\item[deterior] 0.11\n",
       "\\item[respuest] 0.09\n",
       "\\item[profund] 0.07\n",
       "\\item[anot] 0.06\n",
       "\\item[moment] 0.06\n",
       "\\item[antibiot] 0.05\n",
       "\\item[condicion] 0.05\n",
       "\\end{description*}\n",
       "\n",
       "\\item[\\$diagnost] \\textbf{anot:} 0.45\n",
       "\\item[\\$accident] \n",
       "\\item[\\$cirugi] \\begin{description*}\n",
       "\\item[llev] 0.28\n",
       "\\item[program] 0.22\n",
       "\\item[general] 0.1\n",
       "\\item[pendient] 0.09\n",
       "\\item[requier] 0.07\n",
       "\\end{description*}\n",
       "\n",
       "\\item[\\$hemodinam] \\begin{description*}\n",
       "\\item[respiratori] 0.15\n",
       "\\item[deterior] 0.15\n",
       "\\item[soport] 0.14\n",
       "\\item[condicion] 0.13\n",
       "\\item[general] 0.11\n",
       "\\item[respuest] 0.09\n",
       "\\item[moment] 0.09\n",
       "\\item[neurolog] 0.08\n",
       "\\item[sign] 0.08\n",
       "\\item[anot] 0.06\n",
       "\\end{description*}\n",
       "\n",
       "\\item[\\$transit] \n",
       "\\item[\\$control] \n",
       "\\item[\\$dolor] \\begin{description*}\n",
       "\\item[moment] 0.07\n",
       "\\item[sign] 0.06\n",
       "\\end{description*}\n",
       "\n",
       "\\item[\\$antecedent] \\begin{description*}\n",
       "\\item[edad] 0.13\n",
       "\\item[ingres] 0.1\n",
       "\\item[hac] 0.07\n",
       "\\item[anot] 0.07\n",
       "\\item[multipl] 0.05\n",
       "\\end{description*}\n",
       "\n",
       "\\end{description}\n"
      ],
      "text/markdown": [
       "$evolucion\n",
       ":   curacion\n",
       ":   0.12sign\n",
       ":   0.1mejori\n",
       ":   0.1profund\n",
       ":   0.09respuest\n",
       ":   0.08antibiot\n",
       ":   0.06neurolog\n",
       ":   0.05cambi\n",
       ":   0.05\n",
       "\n",
       "\n",
       "$fractur\n",
       ":   multipl\n",
       ":   0.1quirurg\n",
       ":   0.09pendient\n",
       ":   0.06\n",
       "\n",
       "\n",
       "$traum\n",
       ":   neurolog\n",
       ":   0.08multipl\n",
       ":   0.07lesion\n",
       ":   0.07quirurg\n",
       ":   0.07alta\n",
       ":   0.05\n",
       "\n",
       "\n",
       "$continu\n",
       ":   curacion\n",
       ":   0.13respiratori\n",
       ":   0.12soport\n",
       ":   0.12condicion\n",
       ":   0.11general\n",
       ":   0.08antibiot\n",
       ":   0.07deterior\n",
       ":   0.07\n",
       "\n",
       "\n",
       "$establ\n",
       ":   deterior\n",
       ":   0.17moment\n",
       ":   0.16condicion\n",
       ":   0.16neurolog\n",
       ":   0.11respiratori\n",
       ":   0.1sign\n",
       ":   0.1general\n",
       ":   0.09respuest\n",
       ":   0.08pendient\n",
       ":   0.08soport\n",
       ":   0.08cambi\n",
       ":   0.07curacion\n",
       ":   0.05\n",
       "\n",
       "\n",
       "$derech\n",
       ":   her\n",
       ":   0.1lesion\n",
       ":   0.06\n",
       "\n",
       "\n",
       "$izquierd\n",
       ":   her\n",
       ":   0.08lesion\n",
       ":   0.07\n",
       "\n",
       "\n",
       "$quemadur\n",
       ":   profund\n",
       ":   0.57curacion\n",
       ":   0.37sign\n",
       ":   0.06\n",
       "\n",
       "\n",
       "$clinic\n",
       ":   sign\n",
       ":   0.13mejori\n",
       ":   0.11deterior\n",
       ":   0.11respuest\n",
       ":   0.09profund\n",
       ":   0.07anot\n",
       ":   0.06moment\n",
       ":   0.06antibiot\n",
       ":   0.05condicion\n",
       ":   0.05\n",
       "\n",
       "\n",
       "$diagnost\n",
       ":   **anot:** 0.45\n",
       "$accident\n",
       ":   \n",
       "$cirugi\n",
       ":   llev\n",
       ":   0.28program\n",
       ":   0.22general\n",
       ":   0.1pendient\n",
       ":   0.09requier\n",
       ":   0.07\n",
       "\n",
       "\n",
       "$hemodinam\n",
       ":   respiratori\n",
       ":   0.15deterior\n",
       ":   0.15soport\n",
       ":   0.14condicion\n",
       ":   0.13general\n",
       ":   0.11respuest\n",
       ":   0.09moment\n",
       ":   0.09neurolog\n",
       ":   0.08sign\n",
       ":   0.08anot\n",
       ":   0.06\n",
       "\n",
       "\n",
       "$transit\n",
       ":   \n",
       "$control\n",
       ":   \n",
       "$dolor\n",
       ":   moment\n",
       ":   0.07sign\n",
       ":   0.06\n",
       "\n",
       "\n",
       "$antecedent\n",
       ":   edad\n",
       ":   0.13ingres\n",
       ":   0.1hac\n",
       ":   0.07anot\n",
       ":   0.07multipl\n",
       ":   0.05\n",
       "\n",
       "\n",
       "\n",
       "\n"
      ],
      "text/plain": [
       "$evolucion\n",
       "curacion     sign   mejori  profund respuest antibiot neurolog    cambi \n",
       "    0.12     0.10     0.10     0.09     0.08     0.06     0.05     0.05 \n",
       "\n",
       "$fractur\n",
       " multipl  quirurg pendient \n",
       "    0.10     0.09     0.06 \n",
       "\n",
       "$traum\n",
       "neurolog  multipl   lesion  quirurg     alta \n",
       "    0.08     0.07     0.07     0.07     0.05 \n",
       "\n",
       "$continu\n",
       "   curacion respiratori      soport   condicion     general    antibiot \n",
       "       0.13        0.12        0.12        0.11        0.08        0.07 \n",
       "   deterior \n",
       "       0.07 \n",
       "\n",
       "$establ\n",
       "   deterior      moment   condicion    neurolog respiratori        sign \n",
       "       0.17        0.16        0.16        0.11        0.10        0.10 \n",
       "    general    respuest    pendient      soport       cambi    curacion \n",
       "       0.09        0.08        0.08        0.08        0.07        0.05 \n",
       "\n",
       "$derech\n",
       "   her lesion \n",
       "  0.10   0.06 \n",
       "\n",
       "$izquierd\n",
       "   her lesion \n",
       "  0.08   0.07 \n",
       "\n",
       "$quemadur\n",
       " profund curacion     sign \n",
       "    0.57     0.37     0.06 \n",
       "\n",
       "$clinic\n",
       "     sign    mejori  deterior  respuest   profund      anot    moment  antibiot \n",
       "     0.13      0.11      0.11      0.09      0.07      0.06      0.06      0.05 \n",
       "condicion \n",
       "     0.05 \n",
       "\n",
       "$diagnost\n",
       "anot \n",
       "0.45 \n",
       "\n",
       "$accident\n",
       "numeric(0)\n",
       "\n",
       "$cirugi\n",
       "    llev  program  general pendient  requier \n",
       "    0.28     0.22     0.10     0.09     0.07 \n",
       "\n",
       "$hemodinam\n",
       "respiratori    deterior      soport   condicion     general    respuest \n",
       "       0.15        0.15        0.14        0.13        0.11        0.09 \n",
       "     moment    neurolog        sign        anot \n",
       "       0.09        0.08        0.08        0.06 \n",
       "\n",
       "$transit\n",
       "numeric(0)\n",
       "\n",
       "$control\n",
       "numeric(0)\n",
       "\n",
       "$dolor\n",
       "moment   sign \n",
       "  0.07   0.06 \n",
       "\n",
       "$antecedent\n",
       "   edad  ingres     hac    anot multipl \n",
       "   0.13    0.10    0.07    0.07    0.05 \n"
      ]
     },
     "metadata": {},
     "output_type": "display_data"
    }
   ],
   "source": [
    "findAssocs(base_new_stem,  terms = c(\"evolucion\",\"fractur\",\"traum\",\"continu\",\"establ\",\"derech\",\"izquierd\",\"quemadur\",\"clinic\",\"diagnost\",\"accident\",\"cirugi\",\"hemodinam\",\"transit\",\"control\",\"dolor\",\"antecedent\"), corlimit = .05)"
   ]
  },
  {
   "cell_type": "markdown",
   "metadata": {},
   "source": [
    "# Asociaciones Opcion2"
   ]
  },
  {
   "cell_type": "code",
   "execution_count": 303,
   "metadata": {},
   "outputs": [
    {
     "data": {
      "text/html": [
       "'C:/Users/acastano/AppData/Local/Continuum/Anaconda3/R/library'"
      ],
      "text/latex": [
       "'C:/Users/acastano/AppData/Local/Continuum/Anaconda3/R/library'"
      ],
      "text/markdown": [
       "'C:/Users/acastano/AppData/Local/Continuum/Anaconda3/R/library'"
      ],
      "text/plain": [
       "[1] \"C:/Users/acastano/AppData/Local/Continuum/Anaconda3/R/library\""
      ]
     },
     "metadata": {},
     "output_type": "display_data"
    }
   ],
   "source": [
    ".libPaths()"
   ]
  },
  {
   "cell_type": "code",
   "execution_count": 305,
   "metadata": {
    "collapsed": true
   },
   "outputs": [],
   "source": [
    "library(Matrix)\n",
    "library(arules)"
   ]
  },
  {
   "cell_type": "code",
   "execution_count": 306,
   "metadata": {
    "collapsed": true
   },
   "outputs": [],
   "source": [
    "data(\"Adult\")"
   ]
  },
  {
   "cell_type": "code",
   "execution_count": 328,
   "metadata": {},
   "outputs": [
    {
     "data": {
      "text/html": [
       "<table>\n",
       "<thead><tr><th></th><th scope=col>1</th><th scope=col>2</th><th scope=col>3</th><th scope=col>4</th><th scope=col>5</th><th scope=col>6</th><th scope=col>7</th><th scope=col>8</th><th scope=col>9</th><th scope=col>10</th><th scope=col>...</th><th scope=col>351618</th><th scope=col>351619</th><th scope=col>351620</th><th scope=col>351621</th><th scope=col>351622</th><th scope=col>351623</th><th scope=col>351624</th><th scope=col>351625</th><th scope=col>351626</th><th scope=col>351627</th></tr></thead>\n",
       "<tbody>\n",
       "\t<tr><th scope=row>traum</th><td>1  </td><td>0  </td><td>0  </td><td>0  </td><td>0  </td><td>0  </td><td>0  </td><td>0  </td><td>0  </td><td>0  </td><td>...</td><td>0  </td><td>0  </td><td>0  </td><td>0  </td><td>0  </td><td>0  </td><td>0  </td><td>0  </td><td>0  </td><td>0  </td></tr>\n",
       "\t<tr><th scope=row>hac</th><td>0  </td><td>1  </td><td>1  </td><td>1  </td><td>1  </td><td>0  </td><td>0  </td><td>0  </td><td>0  </td><td>0  </td><td>...</td><td>0  </td><td>0  </td><td>0  </td><td>0  </td><td>0  </td><td>0  </td><td>0  </td><td>0  </td><td>0  </td><td>0  </td></tr>\n",
       "\t<tr><th scope=row>antibiot</th><td>0  </td><td>0  </td><td>1  </td><td>0  </td><td>0  </td><td>0  </td><td>0  </td><td>0  </td><td>0  </td><td>0  </td><td>...</td><td>0  </td><td>0  </td><td>0  </td><td>0  </td><td>0  </td><td>0  </td><td>0  </td><td>0  </td><td>0  </td><td>0  </td></tr>\n",
       "\t<tr><th scope=row>fractur</th><td>0  </td><td>0  </td><td>1  </td><td>1  </td><td>0  </td><td>0  </td><td>0  </td><td>0  </td><td>0  </td><td>0  </td><td>...</td><td>0  </td><td>0  </td><td>0  </td><td>0  </td><td>0  </td><td>0  </td><td>0  </td><td>0  </td><td>0  </td><td>0  </td></tr>\n",
       "\t<tr><th scope=row>present</th><td>0  </td><td>0  </td><td>0  </td><td>1  </td><td>1  </td><td>0  </td><td>1  </td><td>1  </td><td>0  </td><td>0  </td><td>...</td><td>0  </td><td>0  </td><td>0  </td><td>0  </td><td>0  </td><td>0  </td><td>0  </td><td>0  </td><td>0  </td><td>0  </td></tr>\n",
       "\t<tr><th scope=row>diagnost</th><td>0  </td><td>0  </td><td>0  </td><td>0  </td><td>1  </td><td>0  </td><td>0  </td><td>1  </td><td>1  </td><td>0  </td><td>...</td><td>0  </td><td>0  </td><td>0  </td><td>0  </td><td>0  </td><td>0  </td><td>0  </td><td>0  </td><td>0  </td><td>0  </td></tr>\n",
       "</tbody>\n",
       "</table>\n"
      ],
      "text/markdown": [
       "\n",
       "| <!--/--> | 1 | 2 | 3 | 4 | 5 | 6 | 7 | 8 | 9 | 10 | ... | 351618 | 351619 | 351620 | 351621 | 351622 | 351623 | 351624 | 351625 | 351626 | 351627 | \n",
       "|---|---|---|---|---|---|\n",
       "| traum | 1   | 0   | 0   | 0   | 0   | 0   | 0   | 0   | 0   | 0   | ... | 0   | 0   | 0   | 0   | 0   | 0   | 0   | 0   | 0   | 0   | \n",
       "| hac | 0   | 1   | 1   | 1   | 1   | 0   | 0   | 0   | 0   | 0   | ... | 0   | 0   | 0   | 0   | 0   | 0   | 0   | 0   | 0   | 0   | \n",
       "| antibiot | 0   | 0   | 1   | 0   | 0   | 0   | 0   | 0   | 0   | 0   | ... | 0   | 0   | 0   | 0   | 0   | 0   | 0   | 0   | 0   | 0   | \n",
       "| fractur | 0   | 0   | 1   | 1   | 0   | 0   | 0   | 0   | 0   | 0   | ... | 0   | 0   | 0   | 0   | 0   | 0   | 0   | 0   | 0   | 0   | \n",
       "| present | 0   | 0   | 0   | 1   | 1   | 0   | 1   | 1   | 0   | 0   | ... | 0   | 0   | 0   | 0   | 0   | 0   | 0   | 0   | 0   | 0   | \n",
       "| diagnost | 0   | 0   | 0   | 0   | 1   | 0   | 0   | 1   | 1   | 0   | ... | 0   | 0   | 0   | 0   | 0   | 0   | 0   | 0   | 0   | 0   | \n",
       "\n",
       "\n"
      ],
      "text/plain": [
       "         1 2 3 4 5 6 7 8 9 10 ... 351618 351619 351620 351621 351622 351623\n",
       "traum    1 0 0 0 0 0 0 0 0 0  ... 0      0      0      0      0      0     \n",
       "hac      0 1 1 1 1 0 0 0 0 0  ... 0      0      0      0      0      0     \n",
       "antibiot 0 0 1 0 0 0 0 0 0 0  ... 0      0      0      0      0      0     \n",
       "fractur  0 0 1 1 0 0 0 0 0 0  ... 0      0      0      0      0      0     \n",
       "present  0 0 0 1 1 0 1 1 0 0  ... 0      0      0      0      0      0     \n",
       "diagnost 0 0 0 0 1 0 0 1 1 0  ... 0      0      0      0      0      0     \n",
       "         351624 351625 351626 351627\n",
       "traum    0      0      0      0     \n",
       "hac      0      0      0      0     \n",
       "antibiot 0      0      0      0     \n",
       "fractur  0      0      0      0     \n",
       "present  0      0      0      0     \n",
       "diagnost 0      0      0      0     "
      ]
     },
     "metadata": {},
     "output_type": "display_data"
    }
   ],
   "source": [
    "head(base_mat_stem)"
   ]
  },
  {
   "cell_type": "code",
   "execution_count": 336,
   "metadata": {
    "collapsed": true
   },
   "outputs": [],
   "source": [
    "#base_mat_stem_associacion = base_mat_stem>=1\n",
    "base_mat_stem_associacion=ifelse(base_mat_stem>=1,1,0)\n"
   ]
  },
  {
   "cell_type": "code",
   "execution_count": 337,
   "metadata": {},
   "outputs": [
    {
     "data": {
      "text/html": [
       "<table>\n",
       "<thead><tr><th></th><th scope=col>1</th><th scope=col>2</th><th scope=col>3</th><th scope=col>4</th><th scope=col>5</th><th scope=col>6</th><th scope=col>7</th><th scope=col>8</th><th scope=col>9</th><th scope=col>10</th><th scope=col>...</th><th scope=col>351618</th><th scope=col>351619</th><th scope=col>351620</th><th scope=col>351621</th><th scope=col>351622</th><th scope=col>351623</th><th scope=col>351624</th><th scope=col>351625</th><th scope=col>351626</th><th scope=col>351627</th></tr></thead>\n",
       "<tbody>\n",
       "\t<tr><th scope=row>traum</th><td>1  </td><td>0  </td><td>0  </td><td>0  </td><td>0  </td><td>0  </td><td>0  </td><td>0  </td><td>0  </td><td>0  </td><td>...</td><td>0  </td><td>0  </td><td>0  </td><td>0  </td><td>0  </td><td>0  </td><td>0  </td><td>0  </td><td>0  </td><td>0  </td></tr>\n",
       "\t<tr><th scope=row>hac</th><td>0  </td><td>1  </td><td>1  </td><td>1  </td><td>1  </td><td>0  </td><td>0  </td><td>0  </td><td>0  </td><td>0  </td><td>...</td><td>0  </td><td>0  </td><td>0  </td><td>0  </td><td>0  </td><td>0  </td><td>0  </td><td>0  </td><td>0  </td><td>0  </td></tr>\n",
       "\t<tr><th scope=row>antibiot</th><td>0  </td><td>0  </td><td>1  </td><td>0  </td><td>0  </td><td>0  </td><td>0  </td><td>0  </td><td>0  </td><td>0  </td><td>...</td><td>0  </td><td>0  </td><td>0  </td><td>0  </td><td>0  </td><td>0  </td><td>0  </td><td>0  </td><td>0  </td><td>0  </td></tr>\n",
       "\t<tr><th scope=row>fractur</th><td>0  </td><td>0  </td><td>1  </td><td>1  </td><td>0  </td><td>0  </td><td>0  </td><td>0  </td><td>0  </td><td>0  </td><td>...</td><td>0  </td><td>0  </td><td>0  </td><td>0  </td><td>0  </td><td>0  </td><td>0  </td><td>0  </td><td>0  </td><td>0  </td></tr>\n",
       "\t<tr><th scope=row>present</th><td>0  </td><td>0  </td><td>0  </td><td>1  </td><td>1  </td><td>0  </td><td>1  </td><td>1  </td><td>0  </td><td>0  </td><td>...</td><td>0  </td><td>0  </td><td>0  </td><td>0  </td><td>0  </td><td>0  </td><td>0  </td><td>0  </td><td>0  </td><td>0  </td></tr>\n",
       "\t<tr><th scope=row>diagnost</th><td>0  </td><td>0  </td><td>0  </td><td>0  </td><td>1  </td><td>0  </td><td>0  </td><td>1  </td><td>1  </td><td>0  </td><td>...</td><td>0  </td><td>0  </td><td>0  </td><td>0  </td><td>0  </td><td>0  </td><td>0  </td><td>0  </td><td>0  </td><td>0  </td></tr>\n",
       "</tbody>\n",
       "</table>\n"
      ],
      "text/markdown": [
       "\n",
       "| <!--/--> | 1 | 2 | 3 | 4 | 5 | 6 | 7 | 8 | 9 | 10 | ... | 351618 | 351619 | 351620 | 351621 | 351622 | 351623 | 351624 | 351625 | 351626 | 351627 | \n",
       "|---|---|---|---|---|---|\n",
       "| traum | 1   | 0   | 0   | 0   | 0   | 0   | 0   | 0   | 0   | 0   | ... | 0   | 0   | 0   | 0   | 0   | 0   | 0   | 0   | 0   | 0   | \n",
       "| hac | 0   | 1   | 1   | 1   | 1   | 0   | 0   | 0   | 0   | 0   | ... | 0   | 0   | 0   | 0   | 0   | 0   | 0   | 0   | 0   | 0   | \n",
       "| antibiot | 0   | 0   | 1   | 0   | 0   | 0   | 0   | 0   | 0   | 0   | ... | 0   | 0   | 0   | 0   | 0   | 0   | 0   | 0   | 0   | 0   | \n",
       "| fractur | 0   | 0   | 1   | 1   | 0   | 0   | 0   | 0   | 0   | 0   | ... | 0   | 0   | 0   | 0   | 0   | 0   | 0   | 0   | 0   | 0   | \n",
       "| present | 0   | 0   | 0   | 1   | 1   | 0   | 1   | 1   | 0   | 0   | ... | 0   | 0   | 0   | 0   | 0   | 0   | 0   | 0   | 0   | 0   | \n",
       "| diagnost | 0   | 0   | 0   | 0   | 1   | 0   | 0   | 1   | 1   | 0   | ... | 0   | 0   | 0   | 0   | 0   | 0   | 0   | 0   | 0   | 0   | \n",
       "\n",
       "\n"
      ],
      "text/plain": [
       "         1 2 3 4 5 6 7 8 9 10 ... 351618 351619 351620 351621 351622 351623\n",
       "traum    1 0 0 0 0 0 0 0 0 0  ... 0      0      0      0      0      0     \n",
       "hac      0 1 1 1 1 0 0 0 0 0  ... 0      0      0      0      0      0     \n",
       "antibiot 0 0 1 0 0 0 0 0 0 0  ... 0      0      0      0      0      0     \n",
       "fractur  0 0 1 1 0 0 0 0 0 0  ... 0      0      0      0      0      0     \n",
       "present  0 0 0 1 1 0 1 1 0 0  ... 0      0      0      0      0      0     \n",
       "diagnost 0 0 0 0 1 0 0 1 1 0  ... 0      0      0      0      0      0     \n",
       "         351624 351625 351626 351627\n",
       "traum    0      0      0      0     \n",
       "hac      0      0      0      0     \n",
       "antibiot 0      0      0      0     \n",
       "fractur  0      0      0      0     \n",
       "present  0      0      0      0     \n",
       "diagnost 0      0      0      0     "
      ]
     },
     "metadata": {},
     "output_type": "display_data"
    }
   ],
   "source": [
    "head(base_mat_stem_associacion)"
   ]
  },
  {
   "cell_type": "code",
   "execution_count": 341,
   "metadata": {},
   "outputs": [
    {
     "data": {
      "text/html": [
       "<ol class=list-inline>\n",
       "\t<li>47</li>\n",
       "\t<li>351627</li>\n",
       "</ol>\n"
      ],
      "text/latex": [
       "\\begin{enumerate*}\n",
       "\\item 47\n",
       "\\item 351627\n",
       "\\end{enumerate*}\n"
      ],
      "text/markdown": [
       "1. 47\n",
       "2. 351627\n",
       "\n",
       "\n"
      ],
      "text/plain": [
       "[1]     47 351627"
      ]
     },
     "metadata": {},
     "output_type": "display_data"
    }
   ],
   "source": [
    "dim(base_mat_stem_associacion)"
   ]
  },
  {
   "cell_type": "code",
   "execution_count": 342,
   "metadata": {},
   "outputs": [
    {
     "name": "stdout",
     "output_type": "stream",
     "text": [
      "Apriori\n",
      "\n",
      "Parameter specification:\n",
      " confidence minval smax arem  aval originalSupport maxtime support minlen\n",
      "       0.01    0.1    1 none FALSE            TRUE       5    0.01      1\n",
      " maxlen target   ext\n",
      "     10  rules FALSE\n",
      "\n",
      "Algorithmic control:\n",
      " filter tree heap memopt load sort verbose\n",
      "    0.1 TRUE TRUE  FALSE TRUE    2    TRUE\n",
      "\n",
      "Absolute minimum support count: 0 \n",
      "\n",
      "set item appearances ...[0 item(s)] done [0.00s].\n",
      "set transactions ...[301633 item(s), 47 transaction(s)] done [0.45s].\n",
      "sorting and recoding items ... [301633 item(s)] done [0.12s].\n",
      "creating transaction tree ... done [0.01s].\n",
      "checking subsets of size 1"
     ]
    },
    {
     "ename": "ERROR",
     "evalue": "Error in apriori(base_mat_stem_associacion, parameter = list(supp = 0.01, : not enough memory. Increase minimum support!\n\n",
     "output_type": "error",
     "traceback": [
      "Error in apriori(base_mat_stem_associacion, parameter = list(supp = 0.01, : not enough memory. Increase minimum support!\n\nTraceback:\n",
      "1. apriori(base_mat_stem_associacion, parameter = list(supp = 0.01, \n .     conf = 0.01, target = \"rules\"))"
     ]
    }
   ],
   "source": [
    "## Mine association rules.\n",
    "rules <- apriori(base_mat_stem_associacion, parameter = list(supp = 0.01, conf = 0.01, target = \"rules\"))"
   ]
  },
  {
   "cell_type": "code",
   "execution_count": 343,
   "metadata": {},
   "outputs": [
    {
     "data": {
      "text/plain": [
       "set of 0 rules\n"
      ]
     },
     "metadata": {},
     "output_type": "display_data"
    }
   ],
   "source": [
    "summary(rules)"
   ]
  },
  {
   "cell_type": "code",
   "execution_count": 344,
   "metadata": {},
   "outputs": [
    {
     "ename": "ERROR",
     "evalue": "Error in slot(x, s)[i]: subscript out of bounds\n",
     "output_type": "error",
     "traceback": [
      "Error in slot(x, s)[i]: subscript out of bounds\nTraceback:\n",
      "1. inspect(head(rules))",
      "2. head(rules)",
      "3. head(rules)",
      "4. .local(x, ...)",
      "5. x[head(o, n = n, ...)]",
      "6. x[head(o, n = n, ...)]",
      "7. slot(x, s)[i]",
      "8. slot(x, s)[i]"
     ]
    }
   ],
   "source": [
    "inspect(head(rules))"
   ]
  },
  {
   "cell_type": "code",
   "execution_count": null,
   "metadata": {
    "collapsed": true
   },
   "outputs": [],
   "source": []
  }
 ],
 "metadata": {
  "anaconda-cloud": {},
  "kernelspec": {
   "display_name": "R",
   "language": "R",
   "name": "ir"
  },
  "language_info": {
   "codemirror_mode": "r",
   "file_extension": ".r",
   "mimetype": "text/x-r-source",
   "name": "R",
   "pygments_lexer": "r",
   "version": "3.4.1"
  },
  "toc": {
   "colors": {
    "hover_highlight": "#DAA520",
    "navigate_num": "#000000",
    "navigate_text": "#333333",
    "running_highlight": "#FF0000",
    "selected_highlight": "#FFD700",
    "sidebar_border": "#EEEEEE",
    "wrapper_background": "#FFFFFF"
   },
   "moveMenuLeft": true,
   "nav_menu": {
    "height": "101px",
    "width": "252px"
   },
   "navigate_menu": true,
   "number_sections": true,
   "sideBar": true,
   "threshold": 4,
   "toc_cell": false,
   "toc_section_display": "block",
   "toc_window_display": true,
   "widenNotebook": false
  }
 },
 "nbformat": 4,
 "nbformat_minor": 1
}
